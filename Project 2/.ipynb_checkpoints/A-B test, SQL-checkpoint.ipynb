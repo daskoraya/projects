{
 "cells": [
  {
   "cell_type": "markdown",
   "metadata": {},
   "source": [
    "# Задание 1. A/B–тестирование\n",
    "\n",
    "В ходе тестирования одной гипотезы целевой группе была предложена новая механика оплаты услуг на сайте, у контрольной группы оставалась базовая механика. Необходимо проанализировать итоги эксперимента и сделать вывод, стоит ли запускать новую механику оплаты на всех пользователей.\n"
   ]
  },
  {
   "cell_type": "markdown",
   "metadata": {},
   "source": [
    "Описание данных:\\\n",
    "groups.csv – файл с информацией о принадлежности пользователя к контрольной или экспериментальной группе (А – контроль, B – целевая группа) \\\n",
    "groups_add.csv – дополнительный файл с пользователями, который вам прислали спустя 2 дня после передачи данных\\\n",
    "active_studs.csv – файл с информацией о пользователях, которые зашли на платформу в дни проведения эксперимента. \\\n",
    "checks.csv – файл с информацией об оплатах пользователей в дни проведения эксперимента. "
   ]
  },
  {
   "cell_type": "code",
   "execution_count": 1,
   "metadata": {},
   "outputs": [],
   "source": [
    "# Импортируем необходимые библиотеки\n",
    "import numpy as np\n",
    "import pandas as pd\n",
    "import scipy.stats as ss\n",
    "import requests\n",
    "\n",
    "import seaborn as sns\n",
    "import matplotlib.pyplot as plt\n",
    "from scipy import stats\n",
    "from urllib.parse import urlencode"
   ]
  },
  {
   "cell_type": "code",
   "execution_count": 2,
   "metadata": {},
   "outputs": [],
   "source": [
    "# Загружаем данные \n",
    "active_studs_url = 'https://disk.yandex.ru/d/Tbs44Bm6H_FwFQ'\n",
    "checks_url = 'https://disk.yandex.ru/d/pH1q-VqcxXjsVA'\n",
    "groups_url = 'https://disk.yandex.ru/d/UhyYx41rTt3clQ'\n",
    "group_add_url = 'https://disk.yandex.ru/d/5Kxrz02m3IBUwQ'"
   ]
  },
  {
   "cell_type": "code",
   "execution_count": 3,
   "metadata": {},
   "outputs": [],
   "source": [
    "# Напишем функцию для открытия ссылки:\n",
    "def get_url(public_key: str):\n",
    "  base_url = 'https://cloud-api.yandex.net/v1/disk/public/resources/download?'\n",
    "  final_url = base_url + urlencode(dict(public_key=public_key))\n",
    "  response = requests.get(final_url)\n",
    "  download_url = response.json()['href']\n",
    "  return download_url"
   ]
  },
  {
   "cell_type": "code",
   "execution_count": 4,
   "metadata": {},
   "outputs": [],
   "source": [
    "active_studs = pd.read_csv(get_url(active_studs_url))\n",
    "checks = pd.read_csv(get_url(checks_url), sep = ';')\n",
    "groups = pd.read_csv(get_url(groups_url), sep = ';')\n",
    "group_add = pd.read_csv(get_url(group_add_url), sep = ',')"
   ]
  },
  {
   "cell_type": "code",
   "execution_count": 5,
   "metadata": {},
   "outputs": [
    {
     "name": "stdout",
     "output_type": "stream",
     "text": [
      "<class 'pandas.core.frame.DataFrame'>\n",
      "RangeIndex: 8341 entries, 0 to 8340\n",
      "Data columns (total 1 columns):\n",
      " #   Column      Non-Null Count  Dtype\n",
      "---  ------      --------------  -----\n",
      " 0   student_id  8341 non-null   int64\n",
      "dtypes: int64(1)\n",
      "memory usage: 65.3 KB\n",
      "<class 'pandas.core.frame.DataFrame'>\n",
      "RangeIndex: 541 entries, 0 to 540\n",
      "Data columns (total 2 columns):\n",
      " #   Column      Non-Null Count  Dtype  \n",
      "---  ------      --------------  -----  \n",
      " 0   student_id  541 non-null    int64  \n",
      " 1   rev         541 non-null    float64\n",
      "dtypes: float64(1), int64(1)\n",
      "memory usage: 8.6 KB\n",
      "<class 'pandas.core.frame.DataFrame'>\n",
      "RangeIndex: 92 entries, 0 to 91\n",
      "Data columns (total 2 columns):\n",
      " #   Column  Non-Null Count  Dtype \n",
      "---  ------  --------------  ----- \n",
      " 0   id      92 non-null     int64 \n",
      " 1   grp     92 non-null     object\n",
      "dtypes: int64(1), object(1)\n",
      "memory usage: 1.6+ KB\n",
      "<class 'pandas.core.frame.DataFrame'>\n",
      "RangeIndex: 74484 entries, 0 to 74483\n",
      "Data columns (total 2 columns):\n",
      " #   Column  Non-Null Count  Dtype \n",
      "---  ------  --------------  ----- \n",
      " 0   id      74484 non-null  int64 \n",
      " 1   grp     74484 non-null  object\n",
      "dtypes: int64(1), object(1)\n",
      "memory usage: 1.1+ MB\n"
     ]
    }
   ],
   "source": [
    "# Выводим информацию о датафреймах\n",
    "active_studs.info()\n",
    "checks.info()\n",
    "group_add.info()\n",
    "groups.info()"
   ]
  },
  {
   "cell_type": "markdown",
   "metadata": {},
   "source": [
    "Видим, что пропущенных значений в датафреймах нет, но столбцы наваны по разному."
   ]
  },
  {
   "cell_type": "code",
   "execution_count": 6,
   "metadata": {},
   "outputs": [],
   "source": [
    "# Приводим к единому виду\n",
    "active_studs = active_studs.rename(columns={'student_id': 'id'})\n",
    "checks = checks.rename(columns={'student_id': 'id'})"
   ]
  },
  {
   "cell_type": "code",
   "execution_count": 7,
   "metadata": {},
   "outputs": [
    {
     "data": {
      "text/plain": [
       "B    59883\n",
       "A    14693\n",
       "Name: grp, dtype: int64"
      ]
     },
     "execution_count": 7,
     "metadata": {},
     "output_type": "execute_result"
    }
   ],
   "source": [
    "# Присоединяем дополнительный файл к основному и смотрим на количество пользователей в каждой из групп\n",
    "groups_full = pd.concat([groups, group_add])\n",
    "groups_full['grp'].value_counts()"
   ]
  },
  {
   "cell_type": "markdown",
   "metadata": {},
   "source": [
    "Очень бросается в глаза соотношение количества людей в тестовой группе и в контрольной. В группе с базовой механикой осталось всего ~20% пользователей, на ~80% выкатили обновление."
   ]
  },
  {
   "cell_type": "code",
   "execution_count": 8,
   "metadata": {},
   "outputs": [
    {
     "data": {
      "image/png": "[encoded data removed]",
      "text/plain": [
       "<Figure size 432x288 with 1 Axes>"
      ]
     },
     "metadata": {},
     "output_type": "display_data"
    }
   ],
   "source": [
    "# Для наглядности нарисуем круговую диаграмму\n",
    "sizes = [groups_full.query('grp == \"A\"')['id'].nunique(), groups_full.query('grp == \"B\"')['id'].nunique()]\n",
    "plt.figure(figsize=(6, 4))\n",
    "plt.pie(sizes, labels=['Контрольная группа', 'Тестовая группа'], autopct='%1.1f%%', colors = ['pink', '#66b3ff'])\n",
    "plt.axis('equal')\n",
    "plt.show()"
   ]
  },
  {
   "cell_type": "code",
   "execution_count": 9,
   "metadata": {},
   "outputs": [
    {
     "name": "stdout",
     "output_type": "stream",
     "text": [
      "В датафрейме active_studs нет дубликатов\n",
      "В датафрейме checks нет дубликатов\n",
      "В датафрейме groups_full нет дубликатов\n"
     ]
    }
   ],
   "source": [
    "# Проверим наличие дубликатов id в каждом датафрейме, для удобства напишем функцию, которая будет это проверять \n",
    "def duplic(df, name_df):\n",
    "    if df.duplicated(subset=['id']).sum() > 0:\n",
    "        d = df.duplicated(subset=['id']).sum()\n",
    "        print(f'В датафрейме {name_df} {d} дубликатов')\n",
    "    else:\n",
    "        print(f'В датафрейме {name_df} нет дубликатов')\n",
    "duplic(active_studs, 'active_studs')\n",
    "duplic(checks, 'checks')\n",
    "duplic(groups_full, 'groups_full')"
   ]
  },
  {
   "cell_type": "markdown",
   "metadata": {},
   "source": [
    "Мы будем рассматривать следующие метрики:\\\n",
    "Конверсия активных пользователей в оплату\\\n",
    "Выручка\\\n",
    "ARPPU\\\n",
    "ARPU"
   ]
  },
  {
   "cell_type": "code",
   "execution_count": 10,
   "metadata": {},
   "outputs": [],
   "source": [
    "# Разделим датафрейм на контрольную и тестовую группу:\n",
    "control_group = groups_full.query('grp == \"A\"')\n",
    "test_group = groups_full.query('grp == \"B\"')"
   ]
  },
  {
   "cell_type": "markdown",
   "metadata": {},
   "source": [
    "Сделаем левый мердж пользователей, которые зашли на платформу в дни проведения эксперимента с каждой из групп и удалим значения с пропусками, что узнать активных пользователей в каждой группе:"
   ]
  },
  {
   "cell_type": "code",
   "execution_count": 11,
   "metadata": {},
   "outputs": [
    {
     "name": "stdout",
     "output_type": "stream",
     "text": [
      "Мы видим что 29 человек из контрольной группы оплатили не заходя на платформу,\n",
      "а из тестовой группы 120 человек оплатили не заходя на платформу\n"
     ]
    }
   ],
   "source": [
    "control_group_active = active_studs.merge(control_group, how='left', on='id').dropna()\n",
    "test_group_active = active_studs.merge(test_group, how='left', on='id').dropna()\n",
    "# Тоже самое сделаем с файлом об оплатах\n",
    "control_group_pay = checks.merge(control_group, how='left', on='id').dropna()\n",
    "test_group_active = active_studs.merge(test_group, how='left', on='id').dropna()\n",
    "\n",
    "# Проверим есть ли люди, которые оплатили без активности\n",
    "control_group_pay_active = checks.merge(control_group_active, how='left', on='id').dropna()\n",
    "control_without_active = control_group_pay['id'].nunique() - control_group_pay_active['id'].nunique()\n",
    "print(f'Мы видим что {control_without_active} человек из контрольной группы оплатили не заходя на платформу,')\n",
    "\n",
    "test_group_pay = checks.merge(test_group, how='left', on='id').dropna()\n",
    "test_group_pay_active = checks.merge(test_group_active, how='left', on='id').dropna()\n",
    "test_without_active = test_group_pay['id'].nunique() - test_group_pay_active['id'].nunique()\n",
    "print(f'а из тестовой группы {test_without_active} человек оплатили не заходя на платформу')"
   ]
  },
  {
   "cell_type": "markdown",
   "metadata": {},
   "source": [
    "Вероятнее всего у этих людей подключен автоплатеж и новую механику оплаты люди из тестовой группы не видели, для чистоты эксперемента мы не будем учитывать неактивных людей из обеих групп"
   ]
  },
  {
   "cell_type": "code",
   "execution_count": 12,
   "metadata": {},
   "outputs": [
    {
     "name": "stdout",
     "output_type": "stream",
     "text": [
      "В тестовой группе выручка составила 394974.0, в контрольной 72820.0\n"
     ]
    }
   ],
   "source": [
    "# Считаем выручку активных пользователей из тестовой и контрольной группы\n",
    "rev_test = test_group_pay_active['rev'].sum().round(2)\n",
    "rev_control = control_group_pay_active['rev'].sum()\n",
    "print(f'В тестовой группе выручка составила {rev_test}, в контрольной {rev_control}')"
   ]
  },
  {
   "cell_type": "markdown",
   "metadata": {},
   "source": [
    "Для дальнейшего анализа нам потребуется соединить датафрейм активных пользователей с платящими, выручку от активных неплатящих выставим равной 0:"
   ]
  },
  {
   "cell_type": "code",
   "execution_count": 13,
   "metadata": {},
   "outputs": [],
   "source": [
    "a = control_group_active.merge(control_group_pay, how='left', on=['id','grp'])\n",
    "a['rev'].fillna(0, inplace=True)\n",
    "\n",
    "b = test_group_active.merge(test_group_pay, how='left', on=['id','grp'])\n",
    "b['rev'].fillna(0, inplace=True)"
   ]
  },
  {
   "cell_type": "code",
   "execution_count": 14,
   "metadata": {},
   "outputs": [
    {
     "name": "stdout",
     "output_type": "stream",
     "text": [
      "  Группа       ARPU        ARPPU\n",
      "0      A  47.347204   933.589744\n",
      "1      B  58.058798  1257.878992\n"
     ]
    }
   ],
   "source": [
    "# Раcсчитаем ARPU и ARPPU\n",
    "data = pd.DataFrame({'Группа': ['A', 'B'],\n",
    "                     'ARPU': [a['rev'].mean(), b['rev'].mean()],  \n",
    "                     'ARPPU': [a.query('rev > 0')['rev'].mean(), b.query('rev > 0')['rev'].mean()]})\n",
    "print(data)"
   ]
  },
  {
   "cell_type": "code",
   "execution_count": 15,
   "metadata": {},
   "outputs": [
    {
     "data": {
      "image/png": "[encoded data removed]",
      "text/plain": [
       "<Figure size 432x432 with 2 Axes>"
      ]
     },
     "metadata": {
      "needs_background": "light"
     },
     "output_type": "display_data"
    }
   ],
   "source": [
    "# Посмотрим на выбросы \n",
    "fig, axes = plt.subplots(1, 2, figsize=(6, 6)) \n",
    "\n",
    "sns.boxplot(data=a.query('rev > 0'), y='rev', x='grp', ax=axes[0])\n",
    "axes[0].set_ylabel('')\n",
    "axes[0].set_xlabel('Группа')\n",
    "\n",
    "sns.boxplot(data=b.query('rev > 0'), y='rev', x='grp', ax=axes[1])\n",
    "axes[1].set_ylabel('')\n",
    "axes[1].set_xlabel('Группа')\n",
    "\n",
    "axes[0].set_ylim(0, 4000)\n",
    "axes[1].set_ylim(0, 4000)\n",
    "\n",
    "for ax in axes:\n",
    "    ax.grid(axis='y', linestyle='--', alpha=0.6)\n",
    "\n",
    "plt.tight_layout() \n",
    "plt.show()"
   ]
  },
  {
   "cell_type": "markdown",
   "metadata": {},
   "source": [
    "По коробчатой диаграмме мы видим, что в тестовой группе медианная сумма чека выше, чем в контрольной. Так же дисперсия больше, тк у нее больше размер ящика и длиннее \"усы\", проверим насколько это значимо математически с помощью теста Левена, для начала сформируем гипотезы:\\\n",
    "H0 - Дисперсии групп равны\\\n",
    "H1 - Дисперсии групп не равны"
   ]
  },
  {
   "cell_type": "code",
   "execution_count": 16,
   "metadata": {},
   "outputs": [
    {
     "name": "stdout",
     "output_type": "stream",
     "text": [
      "t-статистика: 3.08\n",
      "p-значение: 0.08\n",
      "Не отвергаем нулевую гипотезу. Статистической разницы между дисперсиями тестовой и контрольной группы нет.\n"
     ]
    }
   ],
   "source": [
    "group_a = a.query('rev > 0')['rev']\n",
    "group_b = b.query('rev > 0')['rev']\n",
    "levene_stat, levene_p = stats.levene(group_a, group_b) \n",
    "\n",
    "print(f't-статистика: {round(levene_stat, 2)}')\n",
    "print(f'p-значение: {round(levene_p, 2)}')\n",
    "\n",
    "if levene_p < 0.05:\n",
    "    print(\"Отвергаем нулевую гипотезу. Дисперссии тестовой и контрольной группы не равны.\")\n",
    "else:\n",
    "    print(\"Не отвергаем нулевую гипотезу. Статистической разницы между дисперсиями тестовой и контрольной группы нет.\")"
   ]
  },
  {
   "cell_type": "markdown",
   "metadata": {},
   "source": [
    "Теперь проверим распределения на нормальность:"
   ]
  },
  {
   "cell_type": "code",
   "execution_count": 17,
   "metadata": {},
   "outputs": [
    {
     "data": {
      "image/png": "[encoded data removed]",
      "text/plain": [
       "<Figure size 864x288 with 2 Axes>"
      ]
     },
     "metadata": {
      "needs_background": "light"
     },
     "output_type": "display_data"
    }
   ],
   "source": [
    "# Визуализируем распределение выручки\n",
    "fig, (ax1, ax2) = plt.subplots(1, 2, figsize=(12, 4))\n",
    "\n",
    "ax1.hist(a.query('rev > 0').rev)\n",
    "ax2.hist(b.query('rev > 0').rev)\n",
    "\n",
    "ax1.set_title('Контрольная группа')\n",
    "ax2.set_title('Тестовая группа')\n",
    "\n",
    "plt.tight_layout()  \n",
    "plt.show()"
   ]
  },
  {
   "cell_type": "markdown",
   "metadata": {},
   "source": [
    "Видим, что в обеих группах распределение далеко от нормального. Докажем это с помощью теста Шапиро-Уилка:\\\n",
    "H0 - Распределение нормальное\\\n",
    "H1 - Распределение не является нормальным"
   ]
  },
  {
   "cell_type": "code",
   "execution_count": 18,
   "metadata": {},
   "outputs": [
    {
     "name": "stdout",
     "output_type": "stream",
     "text": [
      "p-значение для группы A (тест Шапиро): 1.4986822893803264e-10\n",
      "Отвергаем нулевую гипотезу. Распределение в контрольной группе не является нормальным.\n",
      "p-значение для группы B (тест Шапиро): 1.5437024585965894e-16\n",
      "Отвергаем нулевую гипотезу. Распределение в тестовой группе не является нормальным.\n"
     ]
    }
   ],
   "source": [
    "shapiro_a = stats.shapiro(group_a)\n",
    "shapiro_b = stats.shapiro(group_b)\n",
    "\n",
    "\n",
    "print(\"p-значение для группы A (тест Шапиро):\", shapiro_a.pvalue)\n",
    "if shapiro_a.pvalue < 0.05:\n",
    "    print(\"Отвергаем нулевую гипотезу. Распределение в контрольной группе не является нормальным.\")\n",
    "else:\n",
    "    print(\"Не отвергаем нулевую гипотезу. Распределение в контрольной группе является нормальным.\")\n",
    "    \n",
    "print(\"p-значение для группы B (тест Шапиро):\", shapiro_b.pvalue)   \n",
    "if shapiro_a.pvalue < 0.05:\n",
    "    print(\"Отвергаем нулевую гипотезу. Распределение в тестовой группе не является нормальным.\")\n",
    "else:\n",
    "    print(\"Не отвергаем нулевую гипотезу. Распределение в тестовой группе является нормальным.\")"
   ]
  },
  {
   "cell_type": "markdown",
   "metadata": {},
   "source": [
    "Хоть наши распределения и не являются нормальными, но статистической разницы между их дисперсиями нет и размер выборок достаточно большой - для проверки воспользуемся Т-тестом.\\\n",
    "H0 - Разницы в суммах чека а и б групп нет\\\n",
    "H1 - Есть значимая разница "
   ]
  },
  {
   "cell_type": "code",
   "execution_count": 19,
   "metadata": {},
   "outputs": [
    {
     "name": "stdout",
     "output_type": "stream",
     "text": [
      "t-статистика: -3.1337795050930985\n",
      "p-значение: 0.0018562025265765867\n",
      "Отвергаем нулевую гипотезу. Есть значимая разница в суммах чека между тестовой и контрольной группами.\n"
     ]
    }
   ],
   "source": [
    "t_stat, t_p = stats.ttest_ind(group_a, group_b)\n",
    "\n",
    "print(f't-статистика: {t_stat}')\n",
    "print(f'p-значение: {t_p}')\n",
    "if t_p < 0.05:\n",
    "    print(\"Отвергаем нулевую гипотезу. Есть значимая разница в суммах чека между тестовой и контрольной группами.\")\n",
    "else:\n",
    "    print(\"Не отвергаем нулевую гипотезу. Нет значимой разницы в суммах чека между тестовой и контрольной группами.\")"
   ]
  },
  {
   "cell_type": "markdown",
   "metadata": {},
   "source": [
    "Теперь проверим разницу конверсий в оплату. Для проверки будем использовать хи-квадрат, так как у нас большой объем выборок.\\\n",
    "H0 - Разницы в конверсиях в оплату а и б групп нет\\\n",
    "H1 - Есть значимая разница "
   ]
  },
  {
   "cell_type": "code",
   "execution_count": 20,
   "metadata": {},
   "outputs": [],
   "source": [
    "count_a = [a.query('rev>0')['rev'].count(), a['rev'].count()]\n",
    "count_b = [b.query('rev>0')['rev'].count(), b['rev'].count()]\n",
    "# Делаем таблицу сопряженности \n",
    "data = np.array([count_a, \n",
    "                 count_b])"
   ]
  },
  {
   "cell_type": "code",
   "execution_count": 21,
   "metadata": {},
   "outputs": [
    {
     "name": "stdout",
     "output_type": "stream",
     "text": [
      "Статистика хи-квадрат: 0.44\n",
      "P-значение: 0.51\n",
      "Не отвергаем нулевую гипотезу. Значимой разницы в конверсиях в оплату между тестовой и контрольной группами нет.\n"
     ]
    }
   ],
   "source": [
    "chi2, p, dof, expected  = stats.chi2_contingency(data)\n",
    "print(\"Статистика хи-квадрат:\", round(chi2, 2))\n",
    "print(\"P-значение:\", round(p, 2))\n",
    "if p < 0.05:\n",
    "    print(\"Отвергаем нулевую гипотезу. Есть значимая разница в конверсиях в оплату тестовой и контрольной группами.\")\n",
    "else:\n",
    "    print(\"Не отвергаем нулевую гипотезу. Значимой разницы в конверсиях в оплату между тестовой и контрольной группами нет.\")"
   ]
  },
  {
   "cell_type": "markdown",
   "metadata": {},
   "source": [
    "# Вывод  \n",
    "На разницу в чеках между тестовой и контрольной группами вряд ли повлияла новая механика оплаты, так как покупатель доходит до этапа оплаты, уже после того, как определился что именно он будет покупать и на какую сумму. \\\n",
    "Статистической разницы конверсий в оплату между группами мы не обнаружили, поэтому запускать новую механику оплаты на всех пользователей НЕ стоит."
   ]
  },
  {
   "cell_type": "markdown",
   "metadata": {},
   "source": [
    "# Задание 2. SQL\n",
    "\n",
    "Образовательные курсы состоят из различных уроков, каждый из которых состоит из нескольких маленьких заданий. Каждое такое маленькое задание называется \"горошиной\".\\\n",
    "Назовём очень усердным учеником того пользователя, который хотя бы раз за текущий месяц правильно решил 20 горошин.\n",
    "\n",
    "1. Необходимо написать оптимальный запрос, который даст информацию о количестве очень усердных студентов.NB! Под усердным студентом мы понимаем студента, который правильно решил 20 задач за текущий месяц"
   ]
  },
  {
   "cell_type": "code",
   "execution_count": 22,
   "metadata": {},
   "outputs": [
    {
     "data": {
      "text/plain": [
       "'WITH student_counts AS (\\n    SELECT st_id, COUNT(*)\\n    FROM peas\\n    WHERE correct = TRUE\\n    GROUP BY st_id\\n    HAVING COUNT(*) >= 20\\n)\\nSELECT COUNT(*) FROM student_counts;'"
      ]
     },
     "execution_count": 22,
     "metadata": {},
     "output_type": "execute_result"
    }
   ],
   "source": [
    "\"\"\"WITH student_counts AS (\n",
    "    SELECT st_id, COUNT(*)\n",
    "    FROM peas\n",
    "    WHERE correct = TRUE\n",
    "    GROUP BY st_id\n",
    "    HAVING COUNT(*) >= 20\n",
    ")\n",
    "SELECT COUNT(*) FROM student_counts;\"\"\""
   ]
  },
  {
   "cell_type": "markdown",
   "metadata": {},
   "source": [
    "Объяснение запроса:\n",
    "Из таблицы peas я взяла только записи с верно решенными задачами(горошинами), сгруппировала их по st_id, посчитала количество верно решенных задач у каждого ученика и оставила в таблице только усердных, у кого решено 20 или больше задач, далее с помощью CTE посчитала количество таких учеников - их получилось 136."
   ]
  },
  {
   "cell_type": "markdown",
   "metadata": {},
   "source": [
    "2. Образовательная платформа предлагает пройти студентам курсы по модели trial: студент может решить бесплатно лишь 30 горошин в день. Для неограниченного количества заданий в определенной дисциплине студенту необходимо приобрести полный доступ. Команда провела эксперимент, где был протестирован новый экран оплаты."
   ]
  },
  {
   "cell_type": "markdown",
   "metadata": {},
   "source": [
    "Необходимо в одном запросе выгрузить следующую информацию о группах пользователей:\\\n",
    "ARPU \\\n",
    "ARPPU \\\n",
    "CR в покупку\\\n",
    "СR активного пользователя в покупку \\\n",
    "CR пользователя из активности по математике (subject = ’math’) в покупку курса по математике\\\n",
    "ARPU считается относительно всех пользователей, попавших в группы.\n",
    "\n",
    "Активным считается пользователь, за все время решивший больше 10 задач правильно в любых дисциплинах.\n",
    "\n",
    "Активным по математике считается пользователь, за все время решивший 2 или больше задач правильно по математике."
   ]
  },
  {
   "cell_type": "code",
   "execution_count": 23,
   "metadata": {},
   "outputs": [
    {
     "data": {
      "text/plain": [
       "\"WITH active_stud AS (\\n  SELECT st_id, count(*) as cnt_cor\\n  FROM peas\\n  WHERE correct = true\\n  GROUP BY st_id\\n  HAVING count(*) >= 10),\\nactive_math_stud AS (\\n  SELECT st_id, count(*) as cnt_cor_math\\n  FROM peas\\n  WHERE correct = true and subject = 'Math'\\n  GROUP BY st_id\\n  HAVING count(*) >= 2),\\nbuy_math AS (\\n  SELECT st_id\\n  FROM final_project_check\\n  WHERE subject = 'Math')\\n  \\nSELECT\\n  s.test_grp,\\n  sum(f.money) / count(distinct s.st_id) as ARPU,\\n  sum(f.money) / count(distinct a.st_id) as ARPAU,\\n  100.0 * count(distinct f.st_id) / count(distinct s.st_id) as CR,\\n  100.0 * count(distinct f.st_id) / count(distinct a.st_id) as CRA,\\n  100.0 * count(distinct bm.st_id) / count(distinct am.st_id) as CRA_math\\nFROM\\n  studs as s \\n  LEFT JOIN final_project_check as f ON s.st_id = f.st_id \\n  LEFT JOIN active_stud as a ON s.st_id = a.st_id \\n  LEFT JOIN active_math_stud as am ON s.st_id = am.st_id \\n  LEFT JOIN buy_math as bm ON s.st_id = bm.st_id\\nGROUP BY\\n  s.test_grp\""
      ]
     },
     "execution_count": 23,
     "metadata": {},
     "output_type": "execute_result"
    }
   ],
   "source": [
    "\"\"\"WITH active_stud AS (\n",
    "  SELECT st_id, count(*) as cnt_cor\n",
    "  FROM peas\n",
    "  WHERE correct = true\n",
    "  GROUP BY st_id\n",
    "  HAVING count(*) >= 10),\n",
    "active_math_stud AS (\n",
    "  SELECT st_id, count(*) as cnt_cor_math\n",
    "  FROM peas\n",
    "  WHERE correct = true and subject = 'Math'\n",
    "  GROUP BY st_id\n",
    "  HAVING count(*) >= 2),\n",
    "buy_math AS (\n",
    "  SELECT st_id\n",
    "  FROM final_project_check\n",
    "  WHERE subject = 'Math')\n",
    "  \n",
    "SELECT\n",
    "  s.test_grp,\n",
    "  sum(f.money) / count(distinct s.st_id) as ARPU,\n",
    "  sum(f.money) / count(distinct a.st_id) as ARPAU,\n",
    "  100.0 * count(distinct f.st_id) / count(distinct s.st_id) as CR,\n",
    "  100.0 * count(distinct f.st_id) / count(distinct a.st_id) as CRA,\n",
    "  100.0 * count(distinct bm.st_id) / count(distinct am.st_id) as CRA_math\n",
    "FROM\n",
    "  studs as s \n",
    "  LEFT JOIN final_project_check as f ON s.st_id = f.st_id \n",
    "  LEFT JOIN active_stud as a ON s.st_id = a.st_id \n",
    "  LEFT JOIN active_math_stud as am ON s.st_id = am.st_id \n",
    "  LEFT JOIN buy_math as bm ON s.st_id = bm.st_id\n",
    "GROUP BY\n",
    "  s.test_grp\"\"\""
   ]
  },
  {
   "cell_type": "markdown",
   "metadata": {},
   "source": [
    " В данном запросе я использую 3 CTE:\\\n",
    "первый находит активных студентов\\\n",
    "второй активных cтудентов по математике\\\n",
    "третий студентов которые купили курс по математике\n",
    "\n",
    "В основном запросе я соединяю таблицу со студентами с таблицей покупок и таблицами полученными в CTE\\\n",
    "Разделяю студентов на тестовую и контрольную группы через group by \\\n",
    "Произвожу расчеты нужных нам метрик в поле select, используя для вычислений id студентов из разных таблиц\\\n",
    "Для подсчета CR умножаю на 100.0 чтобы тип данных изменился с целого на дробное, а результат выводился в процентах"
   ]
  },
  {
   "cell_type": "markdown",
   "metadata": {},
   "source": [
    "# Вывод \n",
    "Все подсчитанные метрики в тестовой группе выше, чем в контрольной, поэтому новый экран оплаты стоит раскатить на всех пользователей"
   ]
  },
  {
   "cell_type": "markdown",
   "metadata": {},
   "source": [
    "# Задание 3. Python\n",
    "1. Реализуйте функцию, которая будет автоматически подгружать информацию из дополнительного файла groups_add.csv (заголовки могут отличаться) и на основании дополнительных параметров пересчитывать метрики."
   ]
  },
  {
   "cell_type": "code",
   "execution_count": 24,
   "metadata": {},
   "outputs": [
    {
     "data": {
      "text/html": [
       "<div>\n",
       "<style scoped>\n",
       "    .dataframe tbody tr th:only-of-type {\n",
       "        vertical-align: middle;\n",
       "    }\n",
       "\n",
       "    .dataframe tbody tr th {\n",
       "        vertical-align: top;\n",
       "    }\n",
       "\n",
       "    .dataframe thead th {\n",
       "        text-align: right;\n",
       "    }\n",
       "</style>\n",
       "<table border=\"1\" class=\"dataframe\">\n",
       "  <thead>\n",
       "    <tr style=\"text-align: right;\">\n",
       "      <th></th>\n",
       "      <th>grp</th>\n",
       "      <th>active_users</th>\n",
       "      <th>revenue_active</th>\n",
       "      <th>ARPU</th>\n",
       "      <th>ARPPU</th>\n",
       "      <th>conversion</th>\n",
       "    </tr>\n",
       "  </thead>\n",
       "  <tbody>\n",
       "    <tr>\n",
       "      <th>0</th>\n",
       "      <td>A</td>\n",
       "      <td>1538</td>\n",
       "      <td>72820.0</td>\n",
       "      <td>47.35</td>\n",
       "      <td>933.59</td>\n",
       "      <td>0.050715</td>\n",
       "    </tr>\n",
       "    <tr>\n",
       "      <th>1</th>\n",
       "      <td>B</td>\n",
       "      <td>6803</td>\n",
       "      <td>394974.0</td>\n",
       "      <td>58.06</td>\n",
       "      <td>1257.88</td>\n",
       "      <td>0.046156</td>\n",
       "    </tr>\n",
       "  </tbody>\n",
       "</table>\n",
       "</div>"
      ],
      "text/plain": [
       "  grp  active_users  revenue_active   ARPU    ARPPU  conversion\n",
       "0   A          1538         72820.0  47.35   933.59    0.050715\n",
       "1   B          6803        394974.0  58.06  1257.88    0.046156"
      ]
     },
     "execution_count": 24,
     "metadata": {},
     "output_type": "execute_result"
    }
   ],
   "source": [
    "def load (groups_add_url, s):   # В функцию подгружаем ссылку на новый файл и разделитель\n",
    "    \n",
    "    active_studs_url = 'https://disk.yandex.ru/d/Tbs44Bm6H_FwFQ'\n",
    "    checks_url = 'https://disk.yandex.ru/d/pH1q-VqcxXjsVA'\n",
    "    groups_url = 'https://disk.yandex.ru/d/UhyYx41rTt3clQ'\n",
    "    \n",
    "    def get_url(public_key: str):\n",
    "        base_url = 'https://cloud-api.yandex.net/v1/disk/public/resources/download?'\n",
    "        final_url = base_url + urlencode(dict(public_key=public_key))\n",
    "        response = requests.get(final_url)\n",
    "        download_url = response.json()['href']\n",
    "        return download_url\n",
    "\n",
    "    # Считываем данные\n",
    "    active_studs = pd.read_csv(get_url(active_studs_url))\n",
    "    checks = pd.read_csv(get_url(checks_url), sep = ';')\n",
    "    groups = pd.read_csv(get_url(groups_url), sep = ';')\n",
    "    groups_add = pd.read_csv(get_url(groups_add_url), sep = s)\n",
    "\n",
    "    \n",
    "    # Приводим к единому виду\n",
    "    active_studs = active_studs.rename(columns={'student_id': 'id'})\n",
    "    checks = checks.rename(columns={'student_id': 'id'})\n",
    "\n",
    "   # Присоединяем дополнительный файл к основному\n",
    "    groups_full = pd.concat([groups, groups_add])\n",
    "\n",
    "    # Отбираем активных пользователей и активных платящих пользователей\n",
    "    group_active = active_studs.merge(groups_full, how='left', on='id').dropna()\n",
    "    group_pay_active = group_active.merge(checks, how='left', on='id').fillna(0)\n",
    "    group_pay_active['pay'] = group_pay_active['rev'] > 0\n",
    "\n",
    "\n",
    "    # Считаем метрики\n",
    "    metrics = group_pay_active.groupby('grp').agg(\n",
    "              active_users = ('id', 'nunique'),\n",
    "              revenue_active = ('rev', 'sum'),\n",
    "              ARPU = ('rev', 'mean'),\n",
    "              ARPPU = ('rev', lambda x: x[x > 0].mean().round(2)),\n",
    "              conversion = ('pay', 'mean')\n",
    "              ).reset_index()\n",
    "\n",
    "    metrics[['revenue_active', 'ARPU']] = metrics[['revenue_active', 'ARPU']].round(2)\n",
    "    \n",
    "    return metrics\n",
    "\n",
    "metrics = load('https://disk.yandex.ru/d/5Kxrz02m3IBUwQ',',')\n",
    "metrics"
   ]
  },
  {
   "cell_type": "markdown",
   "metadata": {},
   "source": [
    "2. Реализуйте функцию, которая будет строить графики по получаемым метрикам."
   ]
  },
  {
   "cell_type": "code",
   "execution_count": 25,
   "metadata": {},
   "outputs": [
    {
     "data": {
      "image/png": "[encoded data removed]",
      "text/plain": [
       "<Figure size 1440x360 with 5 Axes>"
      ]
     },
     "metadata": {
      "needs_background": "light"
     },
     "output_type": "display_data"
    }
   ],
   "source": [
    "def plot_results(metrics):\n",
    "    fig, axs = plt.subplots(1, 5, figsize=(20, 5)) \n",
    "\n",
    "    axs[0].bar(metrics['grp'], metrics['revenue_active'], color='#ffcccc' )\n",
    "    axs[0].set_title('Количество активных студентов')\n",
    "    \n",
    "    axs[1].bar(metrics['grp'], metrics['active_users'], color='#ff99cc')\n",
    "    axs[1].set_title('Выручка от активных студентов')\n",
    "    \n",
    "    axs[2].bar(metrics['grp'], metrics['conversion'], color='#ff9999')\n",
    "    axs[2].set_title('Конверсия в покупку')\n",
    "    \n",
    "    axs[3].bar(metrics['grp'], metrics['ARPU'], color='#ff6699')\n",
    "    axs[3].set_title('ARPU')\n",
    "\n",
    "    axs[4].bar(metrics['grp'], metrics['ARPPU'], color='#ff6666')\n",
    "    axs[4].set_title('ARPPU')\n",
    "    \n",
    "    plt.show()\n",
    "    \n",
    "plot_results(metrics)"
   ]
  }
 ],
 "metadata": {
  "kernelspec": {
   "display_name": "Python 3",
   "language": "python",
   "name": "python3"
  },
  "language_info": {
   "codemirror_mode": {
    "name": "ipython",
    "version": 3
   },
   "file_extension": ".py",
   "mimetype": "text/x-python",
   "name": "python",
   "nbconvert_exporter": "python",
   "pygments_lexer": "ipython3",
   "version": "3.7.3"
  }
 },
 "nbformat": 4,
 "nbformat_minor": 4
}
